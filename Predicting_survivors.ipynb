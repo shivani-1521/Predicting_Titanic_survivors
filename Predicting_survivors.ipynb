{
 "cells": [
  {
   "cell_type": "code",
   "execution_count": 183,
   "metadata": {
    "collapsed": true
   },
   "outputs": [],
   "source": [
    "import pandas as pd"
   ]
  },
  {
   "cell_type": "code",
   "execution_count": 184,
   "metadata": {
    "collapsed": true
   },
   "outputs": [],
   "source": [
    "titanic = pd.read_csv(\"titanic_train.csv\")"
   ]
  },
  {
   "cell_type": "code",
   "execution_count": 185,
   "metadata": {},
   "outputs": [
    {
     "data": {
      "text/html": [
       "<div>\n",
       "<style>\n",
       "    .dataframe thead tr:only-child th {\n",
       "        text-align: right;\n",
       "    }\n",
       "\n",
       "    .dataframe thead th {\n",
       "        text-align: left;\n",
       "    }\n",
       "\n",
       "    .dataframe tbody tr th {\n",
       "        vertical-align: top;\n",
       "    }\n",
       "</style>\n",
       "<table border=\"1\" class=\"dataframe\">\n",
       "  <thead>\n",
       "    <tr style=\"text-align: right;\">\n",
       "      <th></th>\n",
       "      <th>PassengerId</th>\n",
       "      <th>Survived</th>\n",
       "      <th>Pclass</th>\n",
       "      <th>Age</th>\n",
       "      <th>SibSp</th>\n",
       "      <th>Parch</th>\n",
       "      <th>Fare</th>\n",
       "    </tr>\n",
       "  </thead>\n",
       "  <tbody>\n",
       "    <tr>\n",
       "      <th>count</th>\n",
       "      <td>891.000000</td>\n",
       "      <td>891.000000</td>\n",
       "      <td>891.000000</td>\n",
       "      <td>714.000000</td>\n",
       "      <td>891.000000</td>\n",
       "      <td>891.000000</td>\n",
       "      <td>891.000000</td>\n",
       "    </tr>\n",
       "    <tr>\n",
       "      <th>mean</th>\n",
       "      <td>446.000000</td>\n",
       "      <td>0.383838</td>\n",
       "      <td>2.308642</td>\n",
       "      <td>29.699118</td>\n",
       "      <td>0.523008</td>\n",
       "      <td>0.381594</td>\n",
       "      <td>32.204208</td>\n",
       "    </tr>\n",
       "    <tr>\n",
       "      <th>std</th>\n",
       "      <td>257.353842</td>\n",
       "      <td>0.486592</td>\n",
       "      <td>0.836071</td>\n",
       "      <td>14.526497</td>\n",
       "      <td>1.102743</td>\n",
       "      <td>0.806057</td>\n",
       "      <td>49.693429</td>\n",
       "    </tr>\n",
       "    <tr>\n",
       "      <th>min</th>\n",
       "      <td>1.000000</td>\n",
       "      <td>0.000000</td>\n",
       "      <td>1.000000</td>\n",
       "      <td>0.420000</td>\n",
       "      <td>0.000000</td>\n",
       "      <td>0.000000</td>\n",
       "      <td>0.000000</td>\n",
       "    </tr>\n",
       "    <tr>\n",
       "      <th>25%</th>\n",
       "      <td>223.500000</td>\n",
       "      <td>0.000000</td>\n",
       "      <td>2.000000</td>\n",
       "      <td>20.125000</td>\n",
       "      <td>0.000000</td>\n",
       "      <td>0.000000</td>\n",
       "      <td>7.910400</td>\n",
       "    </tr>\n",
       "    <tr>\n",
       "      <th>50%</th>\n",
       "      <td>446.000000</td>\n",
       "      <td>0.000000</td>\n",
       "      <td>3.000000</td>\n",
       "      <td>28.000000</td>\n",
       "      <td>0.000000</td>\n",
       "      <td>0.000000</td>\n",
       "      <td>14.454200</td>\n",
       "    </tr>\n",
       "    <tr>\n",
       "      <th>75%</th>\n",
       "      <td>668.500000</td>\n",
       "      <td>1.000000</td>\n",
       "      <td>3.000000</td>\n",
       "      <td>38.000000</td>\n",
       "      <td>1.000000</td>\n",
       "      <td>0.000000</td>\n",
       "      <td>31.000000</td>\n",
       "    </tr>\n",
       "    <tr>\n",
       "      <th>max</th>\n",
       "      <td>891.000000</td>\n",
       "      <td>1.000000</td>\n",
       "      <td>3.000000</td>\n",
       "      <td>80.000000</td>\n",
       "      <td>8.000000</td>\n",
       "      <td>6.000000</td>\n",
       "      <td>512.329200</td>\n",
       "    </tr>\n",
       "  </tbody>\n",
       "</table>\n",
       "</div>"
      ],
      "text/plain": [
       "       PassengerId    Survived      Pclass         Age       SibSp  \\\n",
       "count   891.000000  891.000000  891.000000  714.000000  891.000000   \n",
       "mean    446.000000    0.383838    2.308642   29.699118    0.523008   \n",
       "std     257.353842    0.486592    0.836071   14.526497    1.102743   \n",
       "min       1.000000    0.000000    1.000000    0.420000    0.000000   \n",
       "25%     223.500000    0.000000    2.000000   20.125000    0.000000   \n",
       "50%     446.000000    0.000000    3.000000   28.000000    0.000000   \n",
       "75%     668.500000    1.000000    3.000000   38.000000    1.000000   \n",
       "max     891.000000    1.000000    3.000000   80.000000    8.000000   \n",
       "\n",
       "            Parch        Fare  \n",
       "count  891.000000  891.000000  \n",
       "mean     0.381594   32.204208  \n",
       "std      0.806057   49.693429  \n",
       "min      0.000000    0.000000  \n",
       "25%      0.000000    7.910400  \n",
       "50%      0.000000   14.454200  \n",
       "75%      0.000000   31.000000  \n",
       "max      6.000000  512.329200  "
      ]
     },
     "execution_count": 185,
     "metadata": {},
     "output_type": "execute_result"
    }
   ],
   "source": [
    "titanic.describe()"
   ]
  },
  {
   "cell_type": "code",
   "execution_count": 186,
   "metadata": {},
   "outputs": [
    {
     "data": {
      "text/html": [
       "<div>\n",
       "<style>\n",
       "    .dataframe thead tr:only-child th {\n",
       "        text-align: right;\n",
       "    }\n",
       "\n",
       "    .dataframe thead th {\n",
       "        text-align: left;\n",
       "    }\n",
       "\n",
       "    .dataframe tbody tr th {\n",
       "        vertical-align: top;\n",
       "    }\n",
       "</style>\n",
       "<table border=\"1\" class=\"dataframe\">\n",
       "  <thead>\n",
       "    <tr style=\"text-align: right;\">\n",
       "      <th></th>\n",
       "      <th>PassengerId</th>\n",
       "      <th>Survived</th>\n",
       "      <th>Pclass</th>\n",
       "      <th>Name</th>\n",
       "      <th>Sex</th>\n",
       "      <th>Age</th>\n",
       "      <th>SibSp</th>\n",
       "      <th>Parch</th>\n",
       "      <th>Ticket</th>\n",
       "      <th>Fare</th>\n",
       "      <th>Cabin</th>\n",
       "      <th>Embarked</th>\n",
       "    </tr>\n",
       "  </thead>\n",
       "  <tbody>\n",
       "    <tr>\n",
       "      <th>0</th>\n",
       "      <td>1</td>\n",
       "      <td>0</td>\n",
       "      <td>3</td>\n",
       "      <td>Braund, Mr. Owen Harris</td>\n",
       "      <td>male</td>\n",
       "      <td>22.0</td>\n",
       "      <td>1</td>\n",
       "      <td>0</td>\n",
       "      <td>A/5 21171</td>\n",
       "      <td>7.2500</td>\n",
       "      <td>NaN</td>\n",
       "      <td>S</td>\n",
       "    </tr>\n",
       "    <tr>\n",
       "      <th>1</th>\n",
       "      <td>2</td>\n",
       "      <td>1</td>\n",
       "      <td>1</td>\n",
       "      <td>Cumings, Mrs. John Bradley (Florence Briggs Th...</td>\n",
       "      <td>female</td>\n",
       "      <td>38.0</td>\n",
       "      <td>1</td>\n",
       "      <td>0</td>\n",
       "      <td>PC 17599</td>\n",
       "      <td>71.2833</td>\n",
       "      <td>C85</td>\n",
       "      <td>C</td>\n",
       "    </tr>\n",
       "  </tbody>\n",
       "</table>\n",
       "</div>"
      ],
      "text/plain": [
       "   PassengerId  Survived  Pclass  \\\n",
       "0            1         0       3   \n",
       "1            2         1       1   \n",
       "\n",
       "                                                Name     Sex   Age  SibSp  \\\n",
       "0                            Braund, Mr. Owen Harris    male  22.0      1   \n",
       "1  Cumings, Mrs. John Bradley (Florence Briggs Th...  female  38.0      1   \n",
       "\n",
       "   Parch     Ticket     Fare Cabin Embarked  \n",
       "0      0  A/5 21171   7.2500   NaN        S  \n",
       "1      0   PC 17599  71.2833   C85        C  "
      ]
     },
     "execution_count": 186,
     "metadata": {},
     "output_type": "execute_result"
    }
   ],
   "source": [
    "titanic.head(2)"
   ]
  },
  {
   "cell_type": "code",
   "execution_count": 187,
   "metadata": {
    "collapsed": true
   },
   "outputs": [],
   "source": [
    "titanic[\"Age\"] = titanic[\"Age\"].fillna(titanic[\"Age\"].median())"
   ]
  },
  {
   "cell_type": "code",
   "execution_count": 188,
   "metadata": {
    "collapsed": true
   },
   "outputs": [],
   "source": [
    "titanic.loc[titanic[\"Sex\"] == \"male\", \"Sex\"] = 0\n",
    "titanic.loc[titanic[\"Sex\"] == \"female\", \"Sex\"] = 1"
   ]
  },
  {
   "cell_type": "code",
   "execution_count": 189,
   "metadata": {
    "collapsed": true
   },
   "outputs": [],
   "source": [
    "titanic[\"Embarked\"] = titanic[\"Embarked\"].fillna(\"S\")"
   ]
  },
  {
   "cell_type": "code",
   "execution_count": 190,
   "metadata": {
    "collapsed": true
   },
   "outputs": [],
   "source": [
    "titanic.loc[titanic[\"Embarked\"] == \"S\", \"Embarked\"] = 0\n",
    "titanic.loc[titanic[\"Embarked\"] == \"C\", \"Embarked\"] = 1\n",
    "titanic.loc[titanic[\"Embarked\"] == \"Q\", \"Embarked\"] = 2"
   ]
  },
  {
   "cell_type": "code",
   "execution_count": 191,
   "metadata": {},
   "outputs": [],
   "source": [
    "from sklearn.linear_model import LinearRegression\n",
    "from sklearn.cross_validation import KFold"
   ]
  },
  {
   "cell_type": "code",
   "execution_count": 192,
   "metadata": {
    "collapsed": true
   },
   "outputs": [],
   "source": [
    "predictors = [\"Pclass\", \"Sex\", \"Age\", \"SibSp\", \"Parch\", \"Fare\", \"Embarked\"]"
   ]
  },
  {
   "cell_type": "code",
   "execution_count": 193,
   "metadata": {
    "collapsed": true
   },
   "outputs": [],
   "source": [
    "alg = LinearRegression()"
   ]
  },
  {
   "cell_type": "code",
   "execution_count": 194,
   "metadata": {
    "collapsed": true
   },
   "outputs": [],
   "source": [
    "kf = KFold(titanic.shape[0], n_folds = 3, random_state = 1)"
   ]
  },
  {
   "cell_type": "code",
   "execution_count": 195,
   "metadata": {
    "collapsed": true
   },
   "outputs": [],
   "source": [
    "predictions = []"
   ]
  },
  {
   "cell_type": "code",
   "execution_count": 196,
   "metadata": {
    "collapsed": true
   },
   "outputs": [],
   "source": [
    "for train, test in kf:\n",
    "    train_predictors = (titanic[predictors].iloc[train, :])\n",
    "    train_target = titanic[\"Survived\"].iloc[train]\n",
    "    alg.fit(train_predictors, train_target)\n",
    "    test_predictions = alg.predict(titanic[predictors].iloc[test, :])\n",
    "    predictions.append(test_predictions)\n",
    "    \n",
    "    "
   ]
  },
  {
   "cell_type": "code",
   "execution_count": 197,
   "metadata": {
    "collapsed": true
   },
   "outputs": [],
   "source": [
    "import numpy as np"
   ]
  },
  {
   "cell_type": "code",
   "execution_count": 198,
   "metadata": {
    "collapsed": true
   },
   "outputs": [],
   "source": [
    "predictions = np.concatenate(predictions, axis = 0)\n",
    "#the predictions were in 3 separate numpy arrays"
   ]
  },
  {
   "cell_type": "code",
   "execution_count": 199,
   "metadata": {
    "collapsed": true
   },
   "outputs": [],
   "source": [
    "predictions[predictions > 0.5] = 1\n",
    "predictions[predictions < 0.5] = 0"
   ]
  },
  {
   "cell_type": "code",
   "execution_count": 200,
   "metadata": {
    "collapsed": true
   },
   "outputs": [],
   "source": [
    "accuracy = sum(predictions[predictions == titanic[\"Survived\"]])/ len(predictions)\n",
    "# as for kaggle"
   ]
  },
  {
   "cell_type": "code",
   "execution_count": 201,
   "metadata": {
    "collapsed": true
   },
   "outputs": [],
   "source": [
    "from sklearn.metrics import accuracy_score"
   ]
  },
  {
   "cell_type": "code",
   "execution_count": 202,
   "metadata": {},
   "outputs": [
    {
     "name": "stdout",
     "output_type": "stream",
     "text": [
      "0.783389450056\n"
     ]
    }
   ],
   "source": [
    "accuracy = accuracy_score(predictions, titanic[\"Survived\"])\n",
    "print(accuracy)"
   ]
  },
  {
   "cell_type": "code",
   "execution_count": 203,
   "metadata": {
    "collapsed": true
   },
   "outputs": [],
   "source": [
    "########################################################################################################################"
   ]
  },
  {
   "cell_type": "code",
   "execution_count": 204,
   "metadata": {
    "collapsed": true
   },
   "outputs": [],
   "source": [
    "from sklearn import cross_validation\n",
    "from sklearn.linear_model import LogisticRegression"
   ]
  },
  {
   "cell_type": "code",
   "execution_count": 205,
   "metadata": {
    "collapsed": true
   },
   "outputs": [],
   "source": [
    "alg = LogisticRegression(random_state = 1)"
   ]
  },
  {
   "cell_type": "code",
   "execution_count": 206,
   "metadata": {
    "collapsed": true
   },
   "outputs": [],
   "source": [
    "#X = diabetes.data[:150]         \n",
    "#y = diabetes.target[:150]\n",
    "#lasso = linear_model.Lasso()   \n",
    "#print(cross_val_score(lasso, X, y))   \n",
    "#[ 0.33150734  0.08022311  0.03531764]\n",
    "# cv = 3  integer, to specify the number of folds in a (Stratified)KFold,\n",
    "scores = cross_validation.cross_val_score(alg, titanic[predictors], titanic[\"Survived\"], cv = 3)"
   ]
  },
  {
   "cell_type": "code",
   "execution_count": 207,
   "metadata": {},
   "outputs": [
    {
     "name": "stdout",
     "output_type": "stream",
     "text": [
      "0.787878787879\n"
     ]
    }
   ],
   "source": [
    "print(scores.mean())"
   ]
  },
  {
   "cell_type": "code",
   "execution_count": 208,
   "metadata": {
    "collapsed": true
   },
   "outputs": [],
   "source": [
    "# now on test-data for LogisticRegression"
   ]
  },
  {
   "cell_type": "code",
   "execution_count": 300,
   "metadata": {
    "collapsed": true
   },
   "outputs": [],
   "source": [
    "titanic_test = pd.read_csv(\"titanic_test.csv\")"
   ]
  },
  {
   "cell_type": "code",
   "execution_count": 301,
   "metadata": {},
   "outputs": [
    {
     "data": {
      "text/html": [
       "<div>\n",
       "<style>\n",
       "    .dataframe thead tr:only-child th {\n",
       "        text-align: right;\n",
       "    }\n",
       "\n",
       "    .dataframe thead th {\n",
       "        text-align: left;\n",
       "    }\n",
       "\n",
       "    .dataframe tbody tr th {\n",
       "        vertical-align: top;\n",
       "    }\n",
       "</style>\n",
       "<table border=\"1\" class=\"dataframe\">\n",
       "  <thead>\n",
       "    <tr style=\"text-align: right;\">\n",
       "      <th></th>\n",
       "      <th>PassengerId</th>\n",
       "      <th>Pclass</th>\n",
       "      <th>Age</th>\n",
       "      <th>SibSp</th>\n",
       "      <th>Parch</th>\n",
       "      <th>Fare</th>\n",
       "    </tr>\n",
       "  </thead>\n",
       "  <tbody>\n",
       "    <tr>\n",
       "      <th>count</th>\n",
       "      <td>418.000000</td>\n",
       "      <td>418.000000</td>\n",
       "      <td>332.000000</td>\n",
       "      <td>418.000000</td>\n",
       "      <td>418.000000</td>\n",
       "      <td>417.000000</td>\n",
       "    </tr>\n",
       "    <tr>\n",
       "      <th>mean</th>\n",
       "      <td>1100.500000</td>\n",
       "      <td>2.265550</td>\n",
       "      <td>30.272590</td>\n",
       "      <td>0.447368</td>\n",
       "      <td>0.392344</td>\n",
       "      <td>35.627188</td>\n",
       "    </tr>\n",
       "    <tr>\n",
       "      <th>std</th>\n",
       "      <td>120.810458</td>\n",
       "      <td>0.841838</td>\n",
       "      <td>14.181209</td>\n",
       "      <td>0.896760</td>\n",
       "      <td>0.981429</td>\n",
       "      <td>55.907576</td>\n",
       "    </tr>\n",
       "    <tr>\n",
       "      <th>min</th>\n",
       "      <td>892.000000</td>\n",
       "      <td>1.000000</td>\n",
       "      <td>0.170000</td>\n",
       "      <td>0.000000</td>\n",
       "      <td>0.000000</td>\n",
       "      <td>0.000000</td>\n",
       "    </tr>\n",
       "    <tr>\n",
       "      <th>25%</th>\n",
       "      <td>996.250000</td>\n",
       "      <td>1.000000</td>\n",
       "      <td>21.000000</td>\n",
       "      <td>0.000000</td>\n",
       "      <td>0.000000</td>\n",
       "      <td>7.895800</td>\n",
       "    </tr>\n",
       "    <tr>\n",
       "      <th>50%</th>\n",
       "      <td>1100.500000</td>\n",
       "      <td>3.000000</td>\n",
       "      <td>27.000000</td>\n",
       "      <td>0.000000</td>\n",
       "      <td>0.000000</td>\n",
       "      <td>14.454200</td>\n",
       "    </tr>\n",
       "    <tr>\n",
       "      <th>75%</th>\n",
       "      <td>1204.750000</td>\n",
       "      <td>3.000000</td>\n",
       "      <td>39.000000</td>\n",
       "      <td>1.000000</td>\n",
       "      <td>0.000000</td>\n",
       "      <td>31.500000</td>\n",
       "    </tr>\n",
       "    <tr>\n",
       "      <th>max</th>\n",
       "      <td>1309.000000</td>\n",
       "      <td>3.000000</td>\n",
       "      <td>76.000000</td>\n",
       "      <td>8.000000</td>\n",
       "      <td>9.000000</td>\n",
       "      <td>512.329200</td>\n",
       "    </tr>\n",
       "  </tbody>\n",
       "</table>\n",
       "</div>"
      ],
      "text/plain": [
       "       PassengerId      Pclass         Age       SibSp       Parch        Fare\n",
       "count   418.000000  418.000000  332.000000  418.000000  418.000000  417.000000\n",
       "mean   1100.500000    2.265550   30.272590    0.447368    0.392344   35.627188\n",
       "std     120.810458    0.841838   14.181209    0.896760    0.981429   55.907576\n",
       "min     892.000000    1.000000    0.170000    0.000000    0.000000    0.000000\n",
       "25%     996.250000    1.000000   21.000000    0.000000    0.000000    7.895800\n",
       "50%    1100.500000    3.000000   27.000000    0.000000    0.000000   14.454200\n",
       "75%    1204.750000    3.000000   39.000000    1.000000    0.000000   31.500000\n",
       "max    1309.000000    3.000000   76.000000    8.000000    9.000000  512.329200"
      ]
     },
     "execution_count": 301,
     "metadata": {},
     "output_type": "execute_result"
    }
   ],
   "source": [
    "titanic_test.describe()"
   ]
  },
  {
   "cell_type": "code",
   "execution_count": 303,
   "metadata": {},
   "outputs": [
    {
     "data": {
      "text/html": [
       "<div>\n",
       "<style>\n",
       "    .dataframe thead tr:only-child th {\n",
       "        text-align: right;\n",
       "    }\n",
       "\n",
       "    .dataframe thead th {\n",
       "        text-align: left;\n",
       "    }\n",
       "\n",
       "    .dataframe tbody tr th {\n",
       "        vertical-align: top;\n",
       "    }\n",
       "</style>\n",
       "<table border=\"1\" class=\"dataframe\">\n",
       "  <thead>\n",
       "    <tr style=\"text-align: right;\">\n",
       "      <th></th>\n",
       "      <th>PassengerId</th>\n",
       "      <th>Pclass</th>\n",
       "      <th>Name</th>\n",
       "      <th>Sex</th>\n",
       "      <th>Age</th>\n",
       "      <th>SibSp</th>\n",
       "      <th>Parch</th>\n",
       "      <th>Ticket</th>\n",
       "      <th>Fare</th>\n",
       "      <th>Cabin</th>\n",
       "      <th>Embarked</th>\n",
       "    </tr>\n",
       "  </thead>\n",
       "  <tbody>\n",
       "    <tr>\n",
       "      <th>0</th>\n",
       "      <td>892</td>\n",
       "      <td>3</td>\n",
       "      <td>Kelly, Mr. James</td>\n",
       "      <td>male</td>\n",
       "      <td>34.5</td>\n",
       "      <td>0</td>\n",
       "      <td>0</td>\n",
       "      <td>330911</td>\n",
       "      <td>7.8292</td>\n",
       "      <td>NaN</td>\n",
       "      <td>Q</td>\n",
       "    </tr>\n",
       "    <tr>\n",
       "      <th>1</th>\n",
       "      <td>893</td>\n",
       "      <td>3</td>\n",
       "      <td>Wilkes, Mrs. James (Ellen Needs)</td>\n",
       "      <td>female</td>\n",
       "      <td>47.0</td>\n",
       "      <td>1</td>\n",
       "      <td>0</td>\n",
       "      <td>363272</td>\n",
       "      <td>7.0000</td>\n",
       "      <td>NaN</td>\n",
       "      <td>S</td>\n",
       "    </tr>\n",
       "  </tbody>\n",
       "</table>\n",
       "</div>"
      ],
      "text/plain": [
       "   PassengerId  Pclass                              Name     Sex   Age  SibSp  \\\n",
       "0          892       3                  Kelly, Mr. James    male  34.5      0   \n",
       "1          893       3  Wilkes, Mrs. James (Ellen Needs)  female  47.0      1   \n",
       "\n",
       "   Parch  Ticket    Fare Cabin Embarked  \n",
       "0      0  330911  7.8292   NaN        Q  \n",
       "1      0  363272  7.0000   NaN        S  "
      ]
     },
     "execution_count": 303,
     "metadata": {},
     "output_type": "execute_result"
    }
   ],
   "source": [
    "titanic_test.head(2)"
   ]
  },
  {
   "cell_type": "code",
   "execution_count": 210,
   "metadata": {
    "collapsed": true
   },
   "outputs": [],
   "source": [
    "titanic_test[\"Age\"] = titanic_test[\"Age\"].fillna(titanic[\"Age\"].median())"
   ]
  },
  {
   "cell_type": "code",
   "execution_count": 211,
   "metadata": {
    "collapsed": true
   },
   "outputs": [],
   "source": [
    "titanic_test[\"Embarked\"] = titanic_test[\"Embarked\"].fillna(\"S\")"
   ]
  },
  {
   "cell_type": "code",
   "execution_count": 212,
   "metadata": {
    "collapsed": true
   },
   "outputs": [],
   "source": [
    "titanic_test.loc[titanic_test[\"Sex\"] == \"male\", \"Sex\"] = 0\n",
    "titanic_test.loc[titanic_test[\"Sex\"] == \"female\", \"Sex\"] = 1"
   ]
  },
  {
   "cell_type": "code",
   "execution_count": 213,
   "metadata": {
    "collapsed": true
   },
   "outputs": [],
   "source": [
    "titanic_test.loc[titanic_test[\"Embarked\"] == \"S\", \"Embarked\"] = 0\n",
    "titanic_test.loc[titanic_test[\"Embarked\"] == \"Q\", \"Embarked\"] = 1\n",
    "titanic_test.loc[titanic_test[\"Embarked\"] == \"C\", \"Embarked\"] = 2"
   ]
  },
  {
   "cell_type": "code",
   "execution_count": 214,
   "metadata": {
    "collapsed": true
   },
   "outputs": [],
   "source": [
    "titanic_test[\"Fare\"] = titanic_test[\"Fare\"].fillna(titanic_test[\"Fare\"].median())"
   ]
  },
  {
   "cell_type": "code",
   "execution_count": 215,
   "metadata": {},
   "outputs": [
    {
     "data": {
      "text/plain": [
       "LogisticRegression(C=1.0, class_weight=None, dual=False, fit_intercept=True,\n",
       "          intercept_scaling=1, max_iter=100, multi_class='ovr', n_jobs=1,\n",
       "          penalty='l2', random_state=1, solver='liblinear', tol=0.0001,\n",
       "          verbose=0, warm_start=False)"
      ]
     },
     "execution_count": 215,
     "metadata": {},
     "output_type": "execute_result"
    }
   ],
   "source": [
    "alg = LogisticRegression(random_state = 1)\n",
    "alg.fit(titanic[predictors], titanic[\"Survived\"])"
   ]
  },
  {
   "cell_type": "code",
   "execution_count": 216,
   "metadata": {},
   "outputs": [],
   "source": [
    "predictions = alg.predict(titanic_test[predictors])"
   ]
  },
  {
   "cell_type": "code",
   "execution_count": 217,
   "metadata": {
    "collapsed": true
   },
   "outputs": [],
   "source": [
    "#submission = pd.DataFrame({\"PassengerId\": titanic_test[\"PassengerId\"], \"Survived\" : predictions})"
   ]
  },
  {
   "cell_type": "code",
   "execution_count": 218,
   "metadata": {
    "collapsed": true
   },
   "outputs": [],
   "source": [
    "#submission.to_csv(\"kag1.csv\", index = False)"
   ]
  },
  {
   "cell_type": "code",
   "execution_count": 219,
   "metadata": {
    "collapsed": true
   },
   "outputs": [],
   "source": [
    "# accuracy was around 75%"
   ]
  },
  {
   "cell_type": "code",
   "execution_count": 220,
   "metadata": {
    "collapsed": true
   },
   "outputs": [],
   "source": [
    "#use better alg\n",
    "#generate better features\n",
    "#combine multiple ml algs"
   ]
  },
  {
   "cell_type": "code",
   "execution_count": 221,
   "metadata": {
    "collapsed": true
   },
   "outputs": [],
   "source": [
    "########################################################################################################################"
   ]
  },
  {
   "cell_type": "code",
   "execution_count": 222,
   "metadata": {
    "collapsed": true
   },
   "outputs": [],
   "source": [
    "from sklearn.ensemble import RandomForestClassifier"
   ]
  },
  {
   "cell_type": "code",
   "execution_count": 223,
   "metadata": {
    "collapsed": true
   },
   "outputs": [],
   "source": [
    "alg = RandomForestClassifier(random_state = 1, n_estimators = 10, min_samples_split = 2, min_samples_leaf = 1)"
   ]
  },
  {
   "cell_type": "code",
   "execution_count": 224,
   "metadata": {
    "collapsed": true
   },
   "outputs": [],
   "source": [
    "#n_estimators = no of trees we want to make\n",
    "#min_samples_split = min no of rows we need to make a split\n",
    "#min_samples_leaf = min no of samples we can have at the place a tree branch ends(bottom points of tree)"
   ]
  },
  {
   "cell_type": "code",
   "execution_count": 225,
   "metadata": {
    "collapsed": true
   },
   "outputs": [],
   "source": [
    "kf = cross_validation.KFold(titanic.shape[0], n_folds = 3, random_state = 1)"
   ]
  },
  {
   "cell_type": "code",
   "execution_count": 226,
   "metadata": {
    "collapsed": true
   },
   "outputs": [],
   "source": [
    "scores = cross_validation.cross_val_score(alg, titanic[predictors], titanic[\"Survived\"], cv = kf)"
   ]
  },
  {
   "cell_type": "code",
   "execution_count": 227,
   "metadata": {},
   "outputs": [
    {
     "name": "stdout",
     "output_type": "stream",
     "text": [
      "0.785634118967\n"
     ]
    }
   ],
   "source": [
    "print(scores.mean())"
   ]
  },
  {
   "cell_type": "code",
   "execution_count": 228,
   "metadata": {
    "collapsed": true
   },
   "outputs": [],
   "source": [
    "# to improve accuracy , increase no of trees"
   ]
  },
  {
   "cell_type": "code",
   "execution_count": 229,
   "metadata": {
    "collapsed": true
   },
   "outputs": [],
   "source": [
    "alg = RandomForestClassifier(random_state = 1, n_estimators = 50, min_samples_split = 4, min_samples_leaf = 2)"
   ]
  },
  {
   "cell_type": "code",
   "execution_count": 230,
   "metadata": {
    "collapsed": true
   },
   "outputs": [],
   "source": [
    "kf = cross_validation.KFold(titanic.shape[0], n_folds = 3, random_state = 1)"
   ]
  },
  {
   "cell_type": "code",
   "execution_count": 231,
   "metadata": {
    "collapsed": true
   },
   "outputs": [],
   "source": [
    "scores = cross_validation.cross_val_score(alg, titanic[predictors], titanic[\"Survived\"], cv = kf)"
   ]
  },
  {
   "cell_type": "code",
   "execution_count": 232,
   "metadata": {},
   "outputs": [
    {
     "name": "stdout",
     "output_type": "stream",
     "text": [
      "0.81593714927\n"
     ]
    }
   ],
   "source": [
    "print(scores.mean())"
   ]
  },
  {
   "cell_type": "code",
   "execution_count": 233,
   "metadata": {
    "collapsed": true
   },
   "outputs": [],
   "source": [
    "# to improve accuracy, increase no of features"
   ]
  },
  {
   "cell_type": "code",
   "execution_count": 234,
   "metadata": {
    "collapsed": true
   },
   "outputs": [],
   "source": [
    "#1st new\n",
    "titanic[\"FamilySize\"] = titanic[\"SibSp\"] + titanic[\"Parch\"]"
   ]
  },
  {
   "cell_type": "code",
   "execution_count": 235,
   "metadata": {
    "collapsed": true
   },
   "outputs": [],
   "source": [
    "#2nd new\n",
    "titanic[\"NameLength\"] = titanic[\"Name\"].apply(lambda x: len(x))"
   ]
  },
  {
   "cell_type": "code",
   "execution_count": 236,
   "metadata": {
    "collapsed": true
   },
   "outputs": [],
   "source": [
    "#3rd new\n",
    "import re"
   ]
  },
  {
   "cell_type": "code",
   "execution_count": 237,
   "metadata": {
    "collapsed": true
   },
   "outputs": [],
   "source": [
    "def get_title(name):\n",
    "    title_search = re.search('([A-Za-z]+)\\.', name)\n",
    "    if title_search:\n",
    "        return title_search.group(1)\n",
    "    return \"\""
   ]
  },
  {
   "cell_type": "code",
   "execution_count": 238,
   "metadata": {},
   "outputs": [
    {
     "name": "stdout",
     "output_type": "stream",
     "text": [
      "Mr          517\n",
      "Miss        182\n",
      "Mrs         125\n",
      "Master       40\n",
      "Dr            7\n",
      "Rev           6\n",
      "Mlle          2\n",
      "Major         2\n",
      "Col           2\n",
      "Ms            1\n",
      "Sir           1\n",
      "Lady          1\n",
      "Countess      1\n",
      "Capt          1\n",
      "Don           1\n",
      "Mme           1\n",
      "Jonkheer      1\n",
      "Name: Name, dtype: int64\n"
     ]
    }
   ],
   "source": [
    "titles = titanic[\"Name\"].apply(get_title)\n",
    "print(pd.value_counts(titles))"
   ]
  },
  {
   "cell_type": "code",
   "execution_count": 239,
   "metadata": {
    "collapsed": true
   },
   "outputs": [],
   "source": [
    "title_mapping = { \"Mr\": 1, \"Miss\": 2, \"Mrs\": 3, \"Master\": 4, \"Dr\": 5, \"Rev\": 6, \"Major\": 7, \"Col\": 7, \"Mlle\" : 8, \"Mme\": 8, \"Don\": 9, \"Lady\": 10, \"Countess\": 10, \"Jonkheer\": 10, \"Sir\": 9, \"Capt\": 7, \"Ms\": 2}"
   ]
  },
  {
   "cell_type": "code",
   "execution_count": 240,
   "metadata": {
    "collapsed": true
   },
   "outputs": [],
   "source": [
    "# what?\n",
    "#to verify whether we converted all\n",
    "for k,v in title_mapping.items():\n",
    "    titles[titles == k] = v"
   ]
  },
  {
   "cell_type": "code",
   "execution_count": 241,
   "metadata": {},
   "outputs": [
    {
     "name": "stdout",
     "output_type": "stream",
     "text": [
      "1     517\n",
      "2     183\n",
      "3     125\n",
      "4      40\n",
      "5       7\n",
      "6       6\n",
      "7       5\n",
      "10      3\n",
      "8       3\n",
      "9       2\n",
      "Name: Name, dtype: int64\n"
     ]
    }
   ],
   "source": [
    "print(pd.value_counts(titles))"
   ]
  },
  {
   "cell_type": "code",
   "execution_count": 242,
   "metadata": {
    "collapsed": true
   },
   "outputs": [],
   "source": [
    "titanic[\"Titles\"] = titles"
   ]
  },
  {
   "cell_type": "code",
   "execution_count": 243,
   "metadata": {
    "collapsed": true
   },
   "outputs": [],
   "source": [
    "#4th new\n",
    "import operator"
   ]
  },
  {
   "cell_type": "code",
   "execution_count": 244,
   "metadata": {
    "collapsed": true
   },
   "outputs": [],
   "source": [
    "family_id_mapping = {}\n",
    "#mapping family name to id"
   ]
  },
  {
   "cell_type": "code",
   "execution_count": 245,
   "metadata": {
    "collapsed": true
   },
   "outputs": [],
   "source": [
    "#what?\n",
    "#creating unique family id\n",
    "def get_family_id(row):\n",
    "    last_name = row[\"Name\"].split(\",\")[0]\n",
    "#find the last name\n",
    "    family_id = \"{0}{1}\".format(last_name, row[\"FamilySize\"])\n",
    "#create family id\n",
    "    if family_id not in family_id_mapping:\n",
    "        if len(family_id_mapping) == 0:\n",
    "            current_id = 1\n",
    "        else:\n",
    "            current_id = (max(family_id_mapping.items(), key = operator.itemgetter(1))[1] + 1)\n",
    "        family_id_mapping[family_id] = current_id\n",
    "    return family_id_mapping[family_id]"
   ]
  },
  {
   "cell_type": "code",
   "execution_count": 246,
   "metadata": {
    "collapsed": true
   },
   "outputs": [],
   "source": [
    "#some error here"
   ]
  },
  {
   "cell_type": "code",
   "execution_count": 247,
   "metadata": {},
   "outputs": [],
   "source": [
    "family_ids = titanic.apply(get_family_id, axis = 1)"
   ]
  },
  {
   "cell_type": "code",
   "execution_count": 248,
   "metadata": {
    "collapsed": true
   },
   "outputs": [],
   "source": [
    "family_ids[titanic[\"FamilySize\"] <3] = -1"
   ]
  },
  {
   "cell_type": "code",
   "execution_count": 249,
   "metadata": {},
   "outputs": [
    {
     "name": "stdout",
     "output_type": "stream",
     "text": [
      "-1      800\n",
      " 14       8\n",
      " 149      7\n",
      " 63       6\n",
      " 50       6\n",
      " 59       6\n",
      " 17       5\n",
      " 384      4\n",
      " 27       4\n",
      " 25       4\n",
      " 162      4\n",
      " 8        4\n",
      " 84       4\n",
      " 340      4\n",
      " 43       3\n",
      " 269      3\n",
      " 58       3\n",
      " 633      2\n",
      " 167      2\n",
      " 280      2\n",
      " 510      2\n",
      " 90       2\n",
      " 83       1\n",
      " 625      1\n",
      " 376      1\n",
      " 449      1\n",
      " 498      1\n",
      " 588      1\n",
      "dtype: int64\n"
     ]
    }
   ],
   "source": [
    "print(pd.value_counts(family_ids))"
   ]
  },
  {
   "cell_type": "code",
   "execution_count": 250,
   "metadata": {
    "collapsed": true
   },
   "outputs": [],
   "source": [
    "titanic[\"FamilyId\"] = family_ids"
   ]
  },
  {
   "cell_type": "code",
   "execution_count": 251,
   "metadata": {
    "collapsed": true
   },
   "outputs": [],
   "source": [
    "import numpy as np"
   ]
  },
  {
   "cell_type": "code",
   "execution_count": 252,
   "metadata": {
    "collapsed": true
   },
   "outputs": [],
   "source": [
    "#5th new\n",
    "#selecting k best features\n"
   ]
  },
  {
   "cell_type": "code",
   "execution_count": 253,
   "metadata": {
    "collapsed": true
   },
   "outputs": [],
   "source": [
    "from sklearn.feature_selection import SelectKBest, f_classif"
   ]
  },
  {
   "cell_type": "code",
   "execution_count": 254,
   "metadata": {
    "collapsed": true
   },
   "outputs": [],
   "source": [
    "predictors = [\"Pclass\", \"Sex\", \"Age\", \"SibSp\", \"Parch\", \"Fare\", \"Embarked\", \"FamilySize\", \"Titles\", \"FamilyId\",\"NameLength\"]"
   ]
  },
  {
   "cell_type": "code",
   "execution_count": 255,
   "metadata": {
    "collapsed": true
   },
   "outputs": [],
   "source": [
    "selector = SelectKBest(f_classif, k = 5)"
   ]
  },
  {
   "cell_type": "code",
   "execution_count": 256,
   "metadata": {},
   "outputs": [
    {
     "data": {
      "text/plain": [
       "SelectKBest(k=5, score_func=<function f_classif at 0x000001F51B2837B8>)"
      ]
     },
     "execution_count": 256,
     "metadata": {},
     "output_type": "execute_result"
    }
   ],
   "source": [
    "selector.fit(titanic[predictors], titanic[\"Survived\"])"
   ]
  },
  {
   "cell_type": "code",
   "execution_count": 257,
   "metadata": {},
   "outputs": [
    {
     "data": {
      "text/plain": [
       "11"
      ]
     },
     "execution_count": 257,
     "metadata": {},
     "output_type": "execute_result"
    }
   ],
   "source": [
    "scores = -np.log10(selector.pvalues_)\n",
    "scores\n",
    "len(predictors)"
   ]
  },
  {
   "cell_type": "code",
   "execution_count": 258,
   "metadata": {
    "collapsed": true
   },
   "outputs": [],
   "source": [
    "import matplotlib.pyplot as plt"
   ]
  },
  {
   "cell_type": "code",
   "execution_count": 259,
   "metadata": {},
   "outputs": [
    {
     "data": {
      "text/plain": [
       "([<matplotlib.axis.XTick at 0x1f51d4c8588>,\n",
       "  <matplotlib.axis.XTick at 0x1f51d4a9898>,\n",
       "  <matplotlib.axis.XTick at 0x1f51d4a8b00>,\n",
       "  <matplotlib.axis.XTick at 0x1f51d50dbe0>,\n",
       "  <matplotlib.axis.XTick at 0x1f51d5165f8>,\n",
       "  <matplotlib.axis.XTick at 0x1f51d516fd0>,\n",
       "  <matplotlib.axis.XTick at 0x1f51d51b9e8>,\n",
       "  <matplotlib.axis.XTick at 0x1f51d523400>,\n",
       "  <matplotlib.axis.XTick at 0x1f51d523dd8>,\n",
       "  <matplotlib.axis.XTick at 0x1f51d5277f0>,\n",
       "  <matplotlib.axis.XTick at 0x1f51d52f208>],\n",
       " <a list of 11 Text xticklabel objects>)"
      ]
     },
     "execution_count": 259,
     "metadata": {},
     "output_type": "execute_result"
    }
   ],
   "source": [
    "plt.bar(range(len(predictors)), scores)\n",
    "plt.xticks(range(len(predictors)), predictors, rotation = 'vertical')"
   ]
  },
  {
   "cell_type": "code",
   "execution_count": 260,
   "metadata": {},
   "outputs": [
    {
     "data": {
      "image/png": "[encoded data removed]",
      "text/plain": [
       "<matplotlib.figure.Figure at 0x1f51d4a9b38>"
      ]
     },
     "metadata": {},
     "output_type": "display_data"
    }
   ],
   "source": [
    "plt.show()"
   ]
  },
  {
   "cell_type": "code",
   "execution_count": 261,
   "metadata": {
    "collapsed": true
   },
   "outputs": [],
   "source": [
    "#picking out better features\n",
    "predictors = [\"Pclass\", \"Sex\",\"Fare\", \"Titles\"]"
   ]
  },
  {
   "cell_type": "code",
   "execution_count": 262,
   "metadata": {
    "collapsed": true
   },
   "outputs": [],
   "source": [
    "alg = RandomForestClassifier(random_state = 1, n_estimators = 50, min_samples_split = 8, min_samples_leaf = 4)"
   ]
  },
  {
   "cell_type": "code",
   "execution_count": 263,
   "metadata": {
    "collapsed": true
   },
   "outputs": [],
   "source": [
    "scores = cross_validation.cross_val_score(alg, titanic[predictors], titanic[\"Survived\"], cv = 3)"
   ]
  },
  {
   "cell_type": "code",
   "execution_count": 264,
   "metadata": {},
   "outputs": [
    {
     "name": "stdout",
     "output_type": "stream",
     "text": [
      "0.817059483726\n"
     ]
    }
   ],
   "source": [
    "print(scores.mean())"
   ]
  },
  {
   "cell_type": "code",
   "execution_count": 265,
   "metadata": {
    "collapsed": true
   },
   "outputs": [],
   "source": [
    "#6th new\n",
    "#gradient boosting involves training decision trees one after another and feeding errors from one tree into next\n",
    "#causes overfitting (usually with trees > 100)"
   ]
  },
  {
   "cell_type": "code",
   "execution_count": 266,
   "metadata": {
    "collapsed": true
   },
   "outputs": [],
   "source": [
    "#we'll now use ensemble method\n",
    "#logistic regression is used on linear predictors that have correlation with Survived column\n",
    "#and gradient boosting on all predictors"
   ]
  },
  {
   "cell_type": "code",
   "execution_count": 267,
   "metadata": {
    "collapsed": true
   },
   "outputs": [],
   "source": [
    "from sklearn.ensemble import GradientBoostingClassifier"
   ]
  },
  {
   "cell_type": "code",
   "execution_count": 268,
   "metadata": {
    "collapsed": true
   },
   "outputs": [],
   "source": [
    "algorithms = [[GradientBoostingClassifier(random_state = 1, n_estimators = 25, max_depth = 3), [\"Pclass\", \"Sex\", \"Age\",\"Fare\",\"Embarked\", \"FamilySize\", \"Titles\", \"FamilyId\"]], [LogisticRegression(random_state = 1), [\"Pclass\", \"Sex\", \"Fare\", \"FamilySize\", \"Titles\", \"Age\", \"Embarked\"]]]"
   ]
  },
  {
   "cell_type": "code",
   "execution_count": 269,
   "metadata": {
    "collapsed": true
   },
   "outputs": [],
   "source": [
    "kf = KFold(titanic.shape[0], n_folds = 3, random_state = 1)"
   ]
  },
  {
   "cell_type": "code",
   "execution_count": 270,
   "metadata": {
    "collapsed": true
   },
   "outputs": [],
   "source": [
    "predictions = []"
   ]
  },
  {
   "cell_type": "code",
   "execution_count": 271,
   "metadata": {
    "collapsed": true
   },
   "outputs": [],
   "source": [
    "#what?\n",
    "for train, test in kf:\n",
    "    train_target = titanic[\"Survived\"].iloc[train]\n",
    "    full_test_predictions = []\n",
    "    for alg, predictors in algorithms:\n",
    "        alg.fit(titanic[predictors].iloc[train, :], train_target)\n",
    "        test_predictions = alg.predict_proba(titanic[predictors].iloc[test, :].astype(float))[:,1]\n",
    "        full_test_predictions.append(test_predictions)\n",
    "    test_predictions = (full_test_predictions[0] + full_test_predictions[1])/2\n",
    "    test_predictions[test_predictions > 0.5] = 1\n",
    "    test_predictions[test_predictions < 0.5] = 0\n",
    "    predictions.append(test_predictions)\n"
   ]
  },
  {
   "cell_type": "code",
   "execution_count": 272,
   "metadata": {
    "collapsed": true
   },
   "outputs": [],
   "source": [
    "predictions = np.concatenate(predictions, axis = 0)"
   ]
  },
  {
   "cell_type": "code",
   "execution_count": 273,
   "metadata": {
    "collapsed": true
   },
   "outputs": [],
   "source": [
    "accuracy = sum(predictions[predictions == titanic[\"Survived\"]])/len(predictions)"
   ]
  },
  {
   "cell_type": "code",
   "execution_count": 274,
   "metadata": {},
   "outputs": [
    {
     "name": "stdout",
     "output_type": "stream",
     "text": [
      "0.278338945006\n"
     ]
    }
   ],
   "source": [
    "print(accuracy)"
   ]
  },
  {
   "cell_type": "code",
   "execution_count": 275,
   "metadata": {
    "collapsed": true
   },
   "outputs": [],
   "source": [
    "titles = titanic_test[\"Name\"].apply(get_title)"
   ]
  },
  {
   "cell_type": "code",
   "execution_count": 276,
   "metadata": {
    "collapsed": true
   },
   "outputs": [],
   "source": [
    "title_mapping = { \"Mr\": 1, \"Miss\": 2, \"Mrs\": 3, \"Master\": 4, \"Dr\": 5, \"Rev\": 6, \"Major\": 7, \"Col\": 7, \"Mlle\" : 8, \"Mme\": 8, \"Don\": 9, \"Lady\": 10, \"Countess\": 10, \"Jonkheer\": 10, \"Sir\": 9, \"Capt\": 7, \"Ms\": 2, \"Dona\": 10}"
   ]
  },
  {
   "cell_type": "code",
   "execution_count": 277,
   "metadata": {
    "collapsed": true
   },
   "outputs": [],
   "source": [
    "for k,v in title_mapping.items():\n",
    "    titles[titles == k] = v\n"
   ]
  },
  {
   "cell_type": "code",
   "execution_count": 278,
   "metadata": {
    "collapsed": true
   },
   "outputs": [],
   "source": [
    "titanic_test[\"Titles\"] = titles"
   ]
  },
  {
   "cell_type": "code",
   "execution_count": 279,
   "metadata": {},
   "outputs": [
    {
     "name": "stdout",
     "output_type": "stream",
     "text": [
      "1     240\n",
      "2      79\n",
      "3      72\n",
      "4      21\n",
      "7       2\n",
      "6       2\n",
      "10      1\n",
      "5       1\n",
      "Name: Titles, dtype: int64\n"
     ]
    }
   ],
   "source": [
    "print(pd.value_counts(titanic_test[\"Titles\"]))"
   ]
  },
  {
   "cell_type": "code",
   "execution_count": 280,
   "metadata": {
    "collapsed": true
   },
   "outputs": [],
   "source": [
    "titanic_test[\"FamilySize\"] = titanic_test[\"SibSp\"] + titanic_test[\"Parch\"]"
   ]
  },
  {
   "cell_type": "code",
   "execution_count": 281,
   "metadata": {},
   "outputs": [
    {
     "name": "stdout",
     "output_type": "stream",
     "text": [
      "{'Braund1': 1, 'Cumings1': 2, 'Heikkinen0': 3, 'Futrelle1': 4, 'Allen0': 5, 'Moran0': 6, 'McCarthy0': 7, 'Palsson4': 8, 'Johnson2': 9, 'Nasser1': 10, 'Sandstrom2': 11, 'Bonnell0': 12, 'Saundercock0': 13, 'Andersson6': 14, 'Vestrom0': 15, 'Hewlett0': 16, 'Rice5': 17, 'Williams0': 18, 'Vander Planke1': 19, 'Masselmani0': 20, 'Fynney0': 21, 'Beesley0': 22, 'McGowan0': 23, 'Sloper0': 24, 'Asplund6': 25, 'Emir0': 26, 'Fortune5': 27, \"O'Dwyer0\": 28, 'Todoroff0': 29, 'Uruchurtu0': 30, 'Spencer1': 31, 'Glynn0': 32, 'Wheadon0': 33, 'Meyer1': 34, 'Holverson1': 35, 'Mamee0': 36, 'Cann0': 37, 'Vander Planke2': 38, 'Nicola-Yarred1': 39, 'Ahlin1': 40, 'Turpin1': 41, 'Kraeff0': 42, 'Laroche3': 43, 'Devaney0': 44, 'Rogers0': 45, 'Lennon1': 46, \"O'Driscoll0\": 47, 'Samaan2': 48, 'Arnold-Franchi1': 49, 'Panula5': 50, 'Nosworthy0': 51, 'Harper1': 52, 'Faunthorpe1': 53, 'Ostby1': 54, 'Woolner0': 55, 'Rugg0': 56, 'Novel0': 57, 'West3': 58, 'Goodwin7': 59, 'Sirayanian0': 60, 'Icard0': 61, 'Harris1': 62, 'Skoog5': 63, 'Stewart0': 64, 'Moubarek2': 65, 'Nye0': 66, 'Crease0': 67, 'Kink2': 68, 'Jenkin0': 69, 'Hood0': 70, 'Chronopoulos1': 71, 'Bing0': 72, 'Moen0': 73, 'Staneff0': 74, 'Moutal0': 75, 'Caldwell2': 76, 'Dowdell0': 77, 'Waelens0': 78, 'Sheerlinck0': 79, 'McDermott0': 80, 'Carrau0': 81, 'Ilett0': 82, 'Backstrom3': 83, 'Ford4': 84, 'Slocovski0': 85, 'Celotti0': 86, 'Christmann0': 87, 'Andreasson0': 88, 'Chaffee1': 89, 'Dean3': 90, 'Coxon0': 91, 'Shorney0': 92, 'Goldschmidt0': 93, 'Greenfield1': 94, 'Doling1': 95, 'Kantor1': 96, 'Petranec0': 97, 'Petroff0': 98, 'White1': 99, 'Johansson0': 100, 'Gustafsson2': 101, 'Mionoff0': 102, 'Salkjelsvik0': 103, 'Moss0': 104, 'Rekic0': 105, 'Moran1': 106, 'Porter0': 107, 'Zabour1': 108, 'Barton0': 109, 'Jussila1': 110, 'Attalah0': 111, 'Pekoniemi0': 112, 'Connors0': 113, 'Baxter1': 114, 'Hickman2': 115, 'Moore0': 116, 'Webber0': 117, 'McMahon0': 118, 'Madsen0': 119, 'Peter2': 120, 'Ekstrom0': 121, 'Drazenoic0': 122, 'Coelho0': 123, 'Robins1': 124, 'Weisz1': 125, 'Sobey0': 126, 'Richard0': 127, 'Newsom2': 128, 'Osen0': 129, 'Giglio0': 130, 'Boulos2': 131, 'Nysten0': 132, 'Hakkarainen1': 133, 'Burke0': 134, 'Andrew0': 135, 'Nicholls2': 136, 'Andersson0': 137, 'Navratil2': 138, 'Byles0': 139, 'Bateman0': 140, 'Pears1': 141, 'Meo0': 142, 'van Billiard2': 143, 'Olsen0': 144, 'Williams1': 145, 'Gilnagh0': 146, 'Corn0': 147, 'Smiljanic0': 148, 'Sage10': 149, 'Cribb1': 150, 'Watt0': 151, 'Bengtsson0': 152, 'Calic0': 153, 'Goldsmith2': 154, 'Chibnall1': 155, 'Baumann0': 156, 'Ling0': 157, 'Van der hoef0': 158, 'Sivola0': 159, 'Smith0': 160, 'Klasen2': 161, 'Lefebre4': 162, 'Isham0': 163, 'Hale0': 164, 'Leonard0': 165, 'Pernot0': 166, 'Becker3': 167, 'Kink-Heilmann2': 168, 'Rood0': 169, \"O'Brien1\": 170, 'Romaine0': 171, 'Bourke2': 172, 'Turcin0': 173, 'Pinsky0': 174, 'Carbines0': 175, 'Andersen-Jensen1': 176, 'Brown0': 177, 'Lurette0': 178, 'Mernagh0': 179, 'Olsen1': 180, 'Madigan0': 181, 'Yrois0': 182, 'Vande Walle0': 183, 'Johanson0': 184, 'Youseff0': 185, 'Cohen0': 186, 'Strom1': 187, 'Backstrom1': 188, 'Albimona0': 189, 'Carr0': 190, 'Blank0': 191, 'Ali0': 192, 'Cameron0': 193, 'Perkin0': 194, 'Givard0': 195, 'Kiernan1': 196, 'Newell1': 197, 'Honkanen0': 198, 'Jacobsohn1': 199, 'Bazzani0': 200, 'Harris0': 201, 'Sunderland0': 202, 'Bracken0': 203, 'Green0': 204, 'Nenkoff0': 205, 'Hoyt1': 206, 'Berglund0': 207, 'Mellors0': 208, 'Lovell0': 209, 'Fahlstrom0': 210, 'Larsson0': 211, 'Sjostedt0': 212, 'Leyson0': 213, 'Harknett0': 214, 'Hold1': 215, 'Collyer2': 216, 'Pengelly0': 217, 'Hunt0': 218, 'Murphy1': 219, 'Coleridge0': 220, 'Maenpaa0': 221, 'Minahan2': 222, 'Lindahl0': 223, 'Hamalainen2': 224, 'Beckwith2': 225, 'Carter1': 226, 'Reed0': 227, 'Strom2': 228, 'Stead0': 229, 'Lobb1': 230, 'Rosblom2': 231, 'Touma2': 232, 'Thorne0': 233, 'Cherry0': 234, 'Ward0': 235, 'Parrish1': 236, 'Taussig2': 237, 'Harrison0': 238, 'Henry0': 239, 'Reeves0': 240, 'Persson1': 241, 'Graham1': 242, 'Bissette0': 243, 'Cairns0': 244, 'Tornquist0': 245, 'Mellinger1': 246, 'Natsch1': 247, 'Healy0': 248, 'Andrews1': 249, 'Lindblom0': 250, 'Parkes0': 251, 'Abbott2': 252, 'Duane0': 253, 'Olsson0': 254, 'de Pelsmaeker0': 255, 'Dorking0': 256, 'Stankovic0': 257, 'de Mulder0': 258, 'Naidenoff0': 259, 'Hosono0': 260, 'Connolly0': 261, 'Barber0': 262, 'Bishop1': 263, 'Levy0': 264, 'Haas0': 265, 'Mineff0': 266, 'Lewy0': 267, 'Hanna0': 268, 'Allison3': 269, 'Saalfeld0': 270, 'Kelly0': 271, 'McCoy2': 272, 'Johnson0': 273, 'Keane0': 274, 'Fleming0': 275, 'Penasco y Castellana1': 276, 'Abelson1': 277, 'Francatelli0': 278, 'Hays0': 279, 'Ryerson4': 280, 'Lahtinen2': 281, 'Hendekovic0': 282, 'Hart2': 283, 'Nilsson0': 284, 'Moraweck0': 285, 'Wick2': 286, 'Spedden2': 287, 'Dennis0': 288, 'Danoff0': 289, 'Slayter0': 290, 'Young0': 291, 'Nysveen0': 292, 'Ball0': 293, 'Hippach1': 294, 'Partner0': 295, 'Frauenthal1': 296, 'Denkoff0': 297, 'Burns0': 298, 'Dahl0': 299, 'Blackwell0': 300, 'Collander0': 301, 'Sedgwick0': 302, 'Fox0': 303, 'Davison1': 304, 'Coutts2': 305, 'Dimic0': 306, 'Odahl0': 307, 'Williams-Lambert0': 308, 'Elias2': 309, 'Yousif0': 310, 'Vanden Steen0': 311, 'Bowerman1': 312, 'Funk0': 313, 'McGovern0': 314, 'Mockler0': 315, 'del Carlo1': 316, 'Barbara1': 317, 'Asim0': 318, 'Adahl0': 319, 'Warren1': 320, 'Moussa0': 321, 'Jermyn0': 322, 'Aubart0': 323, 'Harder1': 324, 'Wiklund1': 325, 'Beavan0': 326, 'Ringhini0': 327, 'Landergren0': 328, 'Widener2': 329, 'Betros0': 330, 'Gustafsson0': 331, 'Bidois0': 332, 'Nakid2': 333, 'Tikkanen0': 334, 'Plotcharsky0': 335, 'Davies0': 336, 'Buss0': 337, 'Sadlier0': 338, 'Lehmann0': 339, 'Carter3': 340, 'Jansson0': 341, 'McKane0': 342, 'Pain0': 343, 'Trout0': 344, 'Niskanen0': 345, 'Adams0': 346, 'Oreskovic0': 347, 'Gale1': 348, 'Widegren0': 349, 'Richards2': 350, 'Birkeland0': 351, 'Sdycoff0': 352, 'Hart0': 353, 'Minahan1': 354, 'Cunningham0': 355, 'Sundman0': 356, 'Meek0': 357, 'Drew2': 358, 'Silven2': 359, 'Matthews0': 360, 'Van Impe2': 361, 'Gheorgheff0': 362, 'Charters0': 363, 'Zimmerman0': 364, 'Danbom2': 365, 'Wiseman0': 366, 'Clarke1': 367, 'Phillips0': 368, 'Flynn0': 369, 'Pickard0': 370, 'Bjornstrom-Steffansson0': 371, 'Thorneycroft1': 372, 'Louch1': 373, 'Kallio0': 374, 'Silvey1': 375, 'Richards5': 376, 'Kvillner0': 377, 'Hampe0': 378, 'Petterson1': 379, 'Reynaldo0': 380, 'Johannesen-Bratthammer0': 381, 'Dodge2': 382, 'Seward0': 383, 'Baclini3': 384, 'Peuchen0': 385, 'Hagland1': 386, 'Foreman0': 387, 'Goldenberg1': 388, 'Peduzzi0': 389, 'Jalsevac0': 390, 'Millet0': 391, 'Kenyon1': 392, 'Toomey0': 393, \"O'Connor0\": 394, 'Anderson0': 395, 'Morley0': 396, 'Gee0': 397, 'Milling0': 398, 'Maisner0': 399, 'Goncalves0': 400, 'Campbell0': 401, 'Smart0': 402, 'Scanlan0': 403, 'Keefe0': 404, 'Cacic0': 405, 'Jerwan0': 406, 'Strandberg0': 407, 'Clifford0': 408, 'Renouf1': 409, 'Karlsson0': 410, 'Hirvonen1': 411, 'Frost0': 412, 'Rouse0': 413, 'Turkula0': 414, 'Kent0': 415, 'Somerton0': 416, 'Windelov0': 417, 'Molson0': 418, 'Artagaveytia0': 419, 'Stanley0': 420, 'Yousseff0': 421, 'Eustis1': 422, 'Shellard0': 423, 'Svensson0': 424, 'Canavan0': 425, \"O'Sullivan0\": 426, 'Laitinen0': 427, 'Maioni0': 428, 'Quick2': 429, 'Bradley0': 430, 'Lang0': 431, 'Daly0': 432, 'McGough0': 433, 'Rothschild1': 434, 'Coleff0': 435, 'Walker0': 436, 'Lemore0': 437, 'Ryan0': 438, 'Angle1': 439, 'Pavlovic0': 440, 'Perreault0': 441, 'Vovk0': 442, 'Lahoud0': 443, 'Kassem0': 444, 'Farrell0': 445, 'Ridsdale0': 446, 'Farthing0': 447, 'Salonen0': 448, 'Hocking3': 449, 'Toufik0': 450, 'Butt0': 451, 'LeRoy0': 452, 'Risien0': 453, 'Frolicher2': 454, 'Crosby2': 455, 'Beane1': 456, 'Douglas1': 457, 'Nicholson0': 458, 'Padro y Manent0': 459, 'Davies2': 460, 'Thayer2': 461, 'Sharp0': 462, \"O'Brien0\": 463, 'Leeni0': 464, 'Ohman0': 465, 'Wright0': 466, 'Duff Gordon1': 467, 'Robbins0': 468, 'de Messemaeker1': 469, 'Morrow0': 470, 'Sivic0': 471, 'Norman0': 472, 'Simmons0': 473, 'Meanwell0': 474, 'Stoytcheff0': 475, 'Doharr0': 476, 'Jonsson0': 477, 'Appleton2': 478, 'Rush0': 479, 'Patchett0': 480, 'Garside0': 481, 'Caram1': 482, 'Jussila0': 483, 'Christy2': 484, 'Downton0': 485, 'Ross0': 486, 'Paulner0': 487, 'Jarvis0': 488, 'Frolicher-Stehli2': 489, 'Gilinski0': 490, 'Murdlin0': 491, 'Rintamaki0': 492, 'Stephenson1': 493, 'Elsbury0': 494, 'Chapman1': 495, 'Leitch0': 496, 'Boulos0': 497, 'Jacobsohn3': 498, 'Slabenoff0': 499, 'Harrington0': 500, 'Torber0': 501, 'Homer0': 502, 'Lindell1': 503, 'Karaic0': 504, 'Daniel0': 505, 'Shutes0': 506, 'Jardin0': 507, 'Horgan0': 508, 'Brocklebank0': 509, 'Herman3': 510, 'Gavey0': 511, 'Yasbeck1': 512, 'Kimball1': 513, 'Hansen0': 514, 'Bowen0': 515, 'Sutton0': 516, 'Kirkland0': 517, 'Longley0': 518, 'Bostandyeff0': 519, \"O'Connell0\": 520, 'Barkworth0': 521, 'Lundahl0': 522, 'Stahelin-Maeglin0': 523, 'Parr0': 524, 'Davis0': 525, 'Leinonen0': 526, 'Jensen0': 527, 'Sagesser0': 528, 'Foo0': 529, 'Cor0': 530, 'Simonius-Blumer0': 531, 'Willey0': 532, 'Mitkoff0': 533, 'Kalvik0': 534, \"O'Leary0\": 535, 'Hegarty0': 536, 'Radeff0': 537, 'Eitemiller0': 538, 'Newell2': 539, 'Frauenthal2': 540, 'Badt0': 541, 'Colley0': 542, 'Lindqvist1': 543, 'Butler0': 544, 'Rommetvedt0': 545, 'Cook0': 546, 'Taylor1': 547, 'Brown2': 548, 'Davidson1': 549, 'Mitchell0': 550, 'Wilhelms0': 551, 'Watson0': 552, 'Edvardsson0': 553, 'Sawyer0': 554, 'Turja0': 555, 'Cardeza1': 556, 'Peters0': 557, 'Hassab0': 558, 'Olsvigen0': 559, 'Dakic0': 560, 'Fischer0': 561, 'Madill1': 562, 'Dick1': 563, 'Karun1': 564, 'Lam0': 565, 'Saad0': 566, 'Weir0': 567, 'Chapman0': 568, 'Mullens0': 569, 'Humblen0': 570, 'Astor1': 571, 'Silverthorne0': 572, 'Gallagher0': 573, 'Hansen1': 574, 'Calderhead0': 575, 'Cleaver0': 576, 'Mayne0': 577, 'Klaber0': 578, 'Greenberg0': 579, 'Soholt0': 580, 'Endres0': 581, 'Troutt0': 582, 'McEvoy0': 583, 'Jensen1': 584, 'Gillespie0': 585, 'Hodges0': 586, 'Chambers1': 587, 'Renouf3': 588, 'Mannion0': 589, 'Bryhl1': 590, 'Ilmakangas1': 591, 'Hassan0': 592, 'Knight0': 593, 'Berriman0': 594, 'Troupiansky0': 595, 'Lesurer0': 596, 'Ivanoff0': 597, 'Nankoff0': 598, 'Hawksford0': 599, 'Cavendish1': 600, 'McNamee1': 601, 'Stranden0': 602, 'Sinkkonen0': 603, 'Marvin1': 604, 'Connaghton0': 605, 'Wells2': 606, 'Moor1': 607, 'Vande Velde0': 608, 'Jonkoff0': 609, 'Carlsson0': 610, 'Bailey0': 611, 'Theobald0': 612, 'Rothes0': 613, 'Garfirth0': 614, 'Nirva0': 615, 'Barah0': 616, 'Eklund0': 617, 'Hogeboom1': 618, 'Brewe0': 619, 'Mangan0': 620, 'Gronnestad0': 621, 'Lievens0': 622, 'Mack0': 623, 'Elias0': 624, 'Hocking4': 625, 'Myhrman0': 626, 'Tobin0': 627, 'Emanuel0': 628, 'Kilgannon0': 629, 'Robert1': 630, 'Ayoub0': 631, 'Long0': 632, 'Johnston3': 633, 'Harmer0': 634, 'Sjoblom0': 635, 'Guggenheim0': 636, 'Gaskell0': 637, 'Hoyt0': 638, 'Dantcheff0': 639, 'Otter0': 640, 'Leader0': 641, 'Osman0': 642, 'Ibrahim Shawah0': 643, 'Ponesell0': 644, 'Thomas1': 645, 'Hedman0': 646, 'Andrews0': 647, 'Pettersson0': 648, 'Meyer0': 649, 'Alexander0': 650, 'Lester0': 651, 'Slemen0': 652, 'Tomlin0': 653, 'Fry0': 654, 'Heininen0': 655, 'Mallet2': 656, 'Holm0': 657, 'Hays2': 658, 'Lulic0': 659, 'Reuchlin0': 660, 'McCormack0': 661, 'Stone0': 662, 'Augustsson0': 663, 'Allum0': 664, 'Compton2': 665, 'Pasic0': 666, 'Sirota0': 667, 'Chip0': 668, 'Marechal0': 669, 'Alhomaki0': 670, 'Mudd0': 671, 'Serepeca0': 672, 'Lemberopolous0': 673, 'Culumovic0': 674, 'Abbing0': 675, 'Markoff0': 676, 'Lines1': 677, 'Aks1': 678, 'Razi0': 679, 'Hansen2': 680, 'Giles1': 681, 'Swift0': 682, 'Gill0': 683, 'Bystrom0': 684, 'Duran y More1': 685, 'Roebling0': 686, 'van Melkebeke0': 687, 'Balkic0': 688, 'Vander Cruyssen0': 689, 'Najib0': 690, 'Laleff0': 691, 'Potter1': 692, 'Shelley1': 693, 'Markun0': 694, 'Dahlberg0': 695, 'Banfield0': 696, 'Sutehall0': 697, 'Montvila0': 698, 'Graham0': 699, 'Behr0': 700, 'Dooley0': 701}\n"
     ]
    }
   ],
   "source": [
    "print(family_id_mapping)"
   ]
  },
  {
   "cell_type": "code",
   "execution_count": 282,
   "metadata": {},
   "outputs": [],
   "source": [
    "family_ids = titanic_test.apply(get_family_id, axis = 1)"
   ]
  },
  {
   "cell_type": "code",
   "execution_count": 283,
   "metadata": {},
   "outputs": [],
   "source": [
    "family_ids[titanic_test[\"FamilySize\"]<3] = -1\n",
    "#titanic_test[\"Name\"]"
   ]
  },
  {
   "cell_type": "code",
   "execution_count": 284,
   "metadata": {},
   "outputs": [],
   "source": [
    "titanic_test[\"FamilyId\"] = family_ids"
   ]
  },
  {
   "cell_type": "code",
   "execution_count": 285,
   "metadata": {
    "collapsed": true
   },
   "outputs": [],
   "source": [
    "titanic_test[\"NameLength\"] = titanic_test[\"Name\"].apply(lambda x:len(x))"
   ]
  },
  {
   "cell_type": "code",
   "execution_count": 286,
   "metadata": {
    "collapsed": true
   },
   "outputs": [],
   "source": [
    "predictors = [\"Pclass\", \"Sex\", \"Age\", \"Fare\", \"Embarked\", \"FamilySize\", \"Titles\", \"FamilyId\"]"
   ]
  },
  {
   "cell_type": "code",
   "execution_count": 287,
   "metadata": {
    "collapsed": true
   },
   "outputs": [],
   "source": [
    "algorithms = [[GradientBoostingClassifier(random_state = 1, n_estimators = 25, max_depth = 3), predictors], [LogisticRegression(random_state = 1), [\"Pclass\", \"Sex\", \"Fare\", \"FamilySize\", \"Titles\", \"Age\", \"Embarked\"]]]"
   ]
  },
  {
   "cell_type": "code",
   "execution_count": 292,
   "metadata": {},
   "outputs": [],
   "source": [
    "full_predictions = []\n"
   ]
  },
  {
   "cell_type": "code",
   "execution_count": 294,
   "metadata": {},
   "outputs": [],
   "source": [
    "for alg,predictors in algorithms:\n",
    "    alg.fit(titanic[predictors], titanic[\"Survived\"])\n",
    "    predictions = alg.predict_proba(titanic_test[predictors].astype(float))[:,1]\n",
    "    full_predictions.append(predictions)"
   ]
  },
  {
   "cell_type": "code",
   "execution_count": 295,
   "metadata": {},
   "outputs": [],
   "source": [
    "predictions = (full_predictions[0]*3 + full_predictions[1])/4"
   ]
  },
  {
   "cell_type": "code",
   "execution_count": 296,
   "metadata": {
    "collapsed": true
   },
   "outputs": [],
   "source": [
    "predictions[predictions <= 0.5] = 0\n",
    "predictions[predictions > 0.5] = 1\n",
    "predictions = predictions.astype(int)"
   ]
  },
  {
   "cell_type": "code",
   "execution_count": 299,
   "metadata": {},
   "outputs": [],
   "source": [
    "#submission = pd.DataFrame({\"PassengerId\" : titanic_test[\"PassengerId\"], \"Survived\": predictions})\n",
    "#submission.to_csv(\"kaggle.csv\", index = False)"
   ]
  },
  {
   "cell_type": "code",
   "execution_count": null,
   "metadata": {
    "collapsed": true
   },
   "outputs": [],
   "source": []
  }
 ],
 "metadata": {
  "kernelspec": {
   "display_name": "Python 3",
   "language": "python",
   "name": "python3"
  },
  "language_info": {
   "codemirror_mode": {
    "name": "ipython",
    "version": 3
   },
   "file_extension": ".py",
   "mimetype": "text/x-python",
   "name": "python",
   "nbconvert_exporter": "python",
   "pygments_lexer": "ipython3",
   "version": "3.6.1"
  }
 },
 "nbformat": 4,
 "nbformat_minor": 2
}
